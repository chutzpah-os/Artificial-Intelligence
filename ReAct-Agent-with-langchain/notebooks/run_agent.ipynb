{
 "cells": [
  {
   "cell_type": "code",
   "execution_count": null,
   "id": "36a2c93c",
   "metadata": {
    "vscode": {
     "languageId": "plaintext"
    }
   },
   "outputs": [],
   "source": [
    "import os\n",
    "import sys\n",
    "\n",
    "from dotenv import load_dotenv\n",
    "\n",
    "pkg_path = os.path.abspath(\"../\")\n",
    "if pkg_path not in sys.path:\n",
    "    sys.path.append(pkg_path)\n",
    "\n",
    "load_dotenv()"
   ]
  },
  {
   "cell_type": "markdown",
   "id": "fe0c9c10",
   "metadata": {},
   "source": [
    "## Criação do agente\n",
    "\n",
    "\n",
    "Criação do agente especialista em filmes como checkpoints salvos na memória de trabalho (`MemorySaver`).\n",
    "\n",
    "A orquestração das ações se baseia no modelo `gpt-4o` da OpenAI."
   ]
  },
  {
   "cell_type": "code",
   "execution_count": null,
   "id": "fd8983b4",
   "metadata": {
    "vscode": {
     "languageId": "plaintext"
    }
   },
   "outputs": [],
   "source": [
    "from langchain_openai import ChatOpenAI\n",
    "from langgraph.checkpoint.memory import MemorySaver\n",
    "from src.agent import ReactAgent\n",
    "\n",
    "llm_agent = ChatOpenAI(model=\"gpt-4o\", temperature=0)\n",
    "agent = ReactAgent(llm=llm_agent, memory=MemorySaver())"
   ]
  },
  {
   "cell_type": "markdown",
   "id": "18e95313",
   "metadata": {},
   "source": [
    "bolt://localhost:7687\n"
   ]
  },
  {
   "cell_type": "markdown",
   "id": "46a137fc",
   "metadata": {},
   "source": [
    "## Protótipo de interface - Gradio\n",
    "\n",
    "[Gradio](https://www.gradio.app) é um pacote Python de código aberto que permite a criação de aplicativos web para modelos de machine learning, API ou função Python. Além disso, é pssível compartilhar a aplicação criada por meio de um link público."
   ]
  },
  {
   "cell_type": "code",
   "execution_count": null,
   "id": "3bc1b0dd",
   "metadata": {
    "vscode": {
     "languageId": "plaintext"
    }
   },
   "outputs": [],
   "source": [
    "!pip install gradio -q"
   ]
  },
  {
   "cell_type": "code",
   "execution_count": null,
   "id": "62319776",
   "metadata": {
    "vscode": {
     "languageId": "plaintext"
    }
   },
   "outputs": [],
   "source": [
    "# Front end web app for the assistant\n",
    "import gradio as gr\n",
    "\n",
    "with gr.Blocks() as demo:\n",
    "    chatbot = gr.Chatbot()\n",
    "    msg = gr.Textbox()\n",
    "    clear = gr.Button(\"Clear\")\n",
    "    chat_history = []\n",
    "    \n",
    "    def user(user_message, history):\n",
    "        answer = agent.answer_question(question=user_message,  thread_id=\"1\")\n",
    "        history.append((user_message, answer[\"response\"]))\n",
    "       \n",
    "        return gr.update(value=\"\"), history\n",
    "\n",
    "    msg.submit(user, [msg, chatbot], [msg, chatbot], queue=False)\n",
    "    clear.click(lambda: None, None, chatbot, queue=False)\n",
    "\n",
    "if __name__ == \"__main__\":\n",
    "    demo.launch(debug=True)"
   ]
  },
  {
   "cell_type": "markdown",
   "id": "059a4291",
   "metadata": {},
   "source": [
    "/opt/miniconda3/envs/llm-agent/lib/python3.9/site-packages/tqdm/auto.py:21: TqdmWarning: IProgress not found. Please update jupyter and ipywidgets. See https://ipywidgets.readthedocs.io/en/stable/user_install.html\n",
    "  from .autonotebook import tqdm as notebook_tqdm\n",
    "Running on local URL:  http://127.0.0.1:7860\n",
    "\n",
    "To create a public link, set `share=True` in `launch()`."
   ]
  }
 ],
 "metadata": {
  "language_info": {
   "name": "python"
  }
 },
 "nbformat": 4,
 "nbformat_minor": 5
}
